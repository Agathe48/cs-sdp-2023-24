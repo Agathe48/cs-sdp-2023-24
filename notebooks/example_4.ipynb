{
 "cells": [
  {
   "cell_type": "code",
   "execution_count": 1,
   "metadata": {},
   "outputs": [],
   "source": [
    "import os\n",
    "import sys\n",
    "sys.path.append(\"..\")\n",
    "\n",
    "import matplotlib.pyplot as plt\n",
    "import numpy as np"
   ]
  },
  {
   "cell_type": "code",
   "execution_count": 2,
   "metadata": {},
   "outputs": [],
   "source": [
    "from python.data import Dataloader\n",
    "from python.models import RandomExampleModel\n",
    "from python.metrics import PairsExplained, ClusterIntersection"
   ]
  },
  {
   "cell_type": "code",
   "execution_count": 3,
   "metadata": {},
   "outputs": [
    {
     "name": "stdout",
     "output_type": "stream",
     "text": [
      "(2000, 4)\n",
      "(2000, 4)\n",
      "(2000,)\n"
     ]
    }
   ],
   "source": [
    "# Loading the data\n",
    "data_loader = Dataloader(\"../data/dataset_4\") # Specify path to the dataset you want to load\n",
    "X, Y = data_loader.load()\n",
    "Z = data_loader.get_ground_truth_labels()\n",
    "print(X.shape)\n",
    "print(Y.shape)\n",
    "print(Z.shape)"
   ]
  },
  {
   "cell_type": "code",
   "execution_count": 4,
   "metadata": {},
   "outputs": [
    {
     "name": "stdout",
     "output_type": "stream",
     "text": [
      "(2000, 4)\n"
     ]
    }
   ],
   "source": [
    "# Let's train an example model\n",
    "model = RandomExampleModel() # Instantiation of the model with hyperparameters, if needed\n",
    "model.fit(X, Y) # Training of the model, using preference data\n",
    "print(X.shape)"
   ]
  },
  {
   "cell_type": "code",
   "execution_count": 5,
   "metadata": {},
   "outputs": [
    {
     "name": "stdout",
     "output_type": "stream",
     "text": [
      "[[-0.06326043 -0.18471619]\n",
      " [-0.20129649 -0.33004454]\n",
      " [ 0.00500771 -0.09058298]\n",
      " [ 0.07658458  0.12828252]\n",
      " [-0.06293998 -0.07432317]]\n"
     ]
    }
   ],
   "source": [
    "# First, let's see how our model reconsiders our preferences\n",
    "# Our data preferences were X[i] >> Y[i] for all i, let's see if our model agrees\n",
    "print((model.predict_utility(X) - model.predict_utility(Y))[:5]) # Preferred item has a higher utility\n",
    "\n",
    "# predict_utility returns utility of samples for each cluster, returning shape (n_samples, n_clusters)"
   ]
  },
  {
   "cell_type": "code",
   "execution_count": 6,
   "metadata": {},
   "outputs": [
    {
     "name": "stdout",
     "output_type": "stream",
     "text": [
      "[[0 0]\n",
      " [0 0]\n",
      " [1 0]\n",
      " [1 1]\n",
      " [0 0]]\n"
     ]
    }
   ],
   "source": [
    "# Or we can directly use the predict_preference method:\n",
    "print(model.predict_preference(X, Y)[:5]) # For each cluster we see if X is preferred to Y (0) or the contrary (1)\n",
    "# predict_preference returns preference of samples for each cluster, returning shape (n_samples, n_clusters)\n",
    "# 0 means that the cluster prefers first argument (here X[i]), 1 means that the cluster prefers second argument (here Y[i])"
   ]
  },
  {
   "cell_type": "code",
   "execution_count": 7,
   "metadata": {},
   "outputs": [
    {
     "name": "stdout",
     "output_type": "stream",
     "text": [
      "Percentage of explained preferences for 5 first samples: 0.8\n"
     ]
    }
   ],
   "source": [
    "# We consider that our model explains our data, if for at least one cluster, X[i] >> Y[i]\n",
    "pairs_explained = np.sum(model.predict_preference(X, Y)[:5] == 0, axis=1) # For each sample check if each clusters prefers X[i] (then is True)\n",
    "pairs_explained = pairs_explained > 0 # If at least one cluster prefers X[i], then X[i] >> Y[i] is explained\n",
    "print(\"Percentage of explained preferences for 5 first samples:\", np.sum(pairs_explained) / 5) # Get % or explained pairs"
   ]
  },
  {
   "cell_type": "code",
   "execution_count": 8,
   "metadata": {},
   "outputs": [
    {
     "name": "stdout",
     "output_type": "stream",
     "text": [
      "Percentage of explained preferences for all samples: 0.5845\n",
      "Percentage of explained preferences for all samples: 0.5845\n"
     ]
    }
   ],
   "source": [
    "# Or we call directly the right metric:\n",
    "pairs_explained = PairsExplained()\n",
    "print(\"Percentage of explained preferences for all samples:\", pairs_explained.from_model(model, X, Y))\n",
    "# Or other possibility:\n",
    "print(\"Percentage of explained preferences for all samples:\", pairs_explained(model.predict_utility(X), model.predict_utility(Y)))"
   ]
  },
  {
   "cell_type": "code",
   "execution_count": 9,
   "metadata": {},
   "outputs": [
    {
     "name": "stdout",
     "output_type": "stream",
     "text": [
      "[0 0 0 1 0]\n"
     ]
    }
   ],
   "source": [
    "# Now, we can also see how our model clusters our data\n",
    "print(model.predict_cluster(X, Y)[:5]) # Returns for each sample which cluster is the most likely to have generated the preference.\n",
    "# The most likely cluster is the one with the highest utility difference U(X[i])-U(Y[i]) for the sample."
   ]
  },
  {
   "cell_type": "code",
   "execution_count": 10,
   "metadata": {},
   "outputs": [
    {
     "name": "stdout",
     "output_type": "stream",
     "text": [
      "[0 0 0 1 0]\n"
     ]
    }
   ],
   "source": [
    "# Ground truth are also provided:\n",
    "Z = data_loader.get_ground_truth_labels()\n",
    "# We can see how it compares to our model's predictions:\n",
    "print(Z[:5])"
   ]
  },
  {
   "cell_type": "code",
   "execution_count": 11,
   "metadata": {},
   "outputs": [
    {
     "name": "stdout",
     "output_type": "stream",
     "text": [
      "Cluster intersection for 5 first samples: 1.0\n",
      "Cluster intersection for all samples: 0.6577508754377188\n",
      "Cluster intersection for all samples: 0.6577508754377188\n"
     ]
    }
   ],
   "source": [
    "# We have a metric to calculate how well the model has regrouped the preferences pairs compared to ground truth:\n",
    "cluster_intersection = ClusterIntersection()\n",
    "\n",
    "print(\"Cluster intersection for 5 first samples:\", cluster_intersection(model.predict_cluster(X, Y)[:5], Z[:5]))\n",
    "\n",
    "# Then for all data:\n",
    "print(\"Cluster intersection for all samples:\", cluster_intersection(model.predict_cluster(X, Y), Z))\n",
    "print(\"Cluster intersection for all samples:\", cluster_intersection.from_model(model, X, Y, Z))"
   ]
  },
  {
   "cell_type": "code",
   "execution_count": 12,
   "metadata": {},
   "outputs": [
    {
     "data": {
      "image/png": "[encoded data removed]",
      "text/plain": [
       "<Figure size 432x288 with 1 Axes>"
      ]
     },
     "metadata": {
      "needs_background": "light"
     },
     "output_type": "display_data"
    }
   ],
   "source": [
    "# Here is a proposition of a useful plot to see how the model clusters the data:\n",
    "# We look at how each cluster evaluates U(x) - U(y) and color with ground truth clustering\n",
    "# Note that x >>_1 y means that x is preferred to y for cluster 1\n",
    "from matplotlib.patches import Rectangle\n",
    "from matplotlib.lines import Line2D\n",
    "\n",
    "plt.figure()\n",
    "plt.xlabel(\"U1(x) - U1(y)\")\n",
    "plt.ylabel(\"U2(x) - U2(y)\")\n",
    "\n",
    "plt.gca().add_patch(Rectangle((0,-1.),1., 2.,\n",
    "                    edgecolor='red',\n",
    "                    facecolor='none',\n",
    "                    lw=0, \n",
    "                    hatch='/'))\n",
    "plt.gca().add_patch(Rectangle((-1.,0), 2., 1.,\n",
    "                    edgecolor='green',\n",
    "                    facecolor='none',\n",
    "                    lw=0, \n",
    "                    hatch='\\\\'))\n",
    "plt.gca().add_patch(Rectangle((-1.,-1.),1., 1.,\n",
    "                    edgecolor='blue',\n",
    "                    facecolor='none',\n",
    "                    hatch='/',\n",
    "                    lw=0))\n",
    "plt.scatter(model.predict_utility(X)[:, 0]-model.predict_utility(Y)[:, 0], \n",
    "            model.predict_utility(X)[:, 1]-model.predict_utility(Y)[:, 1], c=Z)\n",
    "\n",
    "custom_lines = [Line2D([0], [0], color=\"red\", lw=4),\n",
    "                Line2D([0], [0], color=\"green\", lw=4),\n",
    "                Line2D([0], [0], color=\"b\", lw=4)]\n",
    "\n",
    "plt.legend(custom_lines, ['x >>_1 y', \"x >>_2 y \", 'No preference of x over y'])\n",
    "plt.show()"
   ]
  },
  {
   "cell_type": "markdown",
   "metadata": {},
   "source": [
    "Our random model cannot explain a large part of our preference data. Your first assigment will be to write a Mixed-Interger Programming algorithm that will be able to do so."
   ]
  },
  {
   "cell_type": "code",
   "execution_count": 17,
   "metadata": {},
   "outputs": [
    {
     "name": "stdout",
     "output_type": "stream",
     "text": [
      "Gurobi Optimizer version 11.0.0 build v11.0.0rc2 (win64 - Windows 10.0 (19044.2))\n",
      "\n",
      "CPU model: Intel(R) Core(TM) i7-7700HQ CPU @ 2.80GHz, instruction set [SSE2|AVX|AVX2]\n",
      "Thread count: 4 physical cores, 8 logical processors, using up to 8 threads\n",
      "\n",
      "Optimize a model with 6050 rows, 12048 columns and 75836 nonzeros\n",
      "Model fingerprint: 0x4baa3774\n",
      "Variable types: 8048 continuous, 4000 integer (4000 binary)\n",
      "Coefficient statistics:\n",
      "  Matrix range     [1e-06, 4e+00]\n",
      "  Objective range  [1e+00, 1e+00]\n",
      "  Bounds range     [1e+00, 1e+00]\n",
      "  RHS range        [1e+00, 4e+00]\n",
      "Found heuristic solution: objective 184.1943684\n",
      "Presolve removed 2016 rows and 8008 columns\n",
      "Presolve time: 0.11s\n",
      "Presolved: 4034 rows, 4040 columns, 53876 nonzeros\n",
      "Variable types: 2040 continuous, 2000 integer (2000 binary)\n",
      "\n",
      "Root relaxation: objective 0.000000e+00, 1875 iterations, 0.11 seconds (0.14 work units)\n",
      "\n",
      "    Nodes    |    Current Node    |     Objective Bounds      |     Work\n",
      " Expl Unexpl |  Obj  Depth IntInf | Incumbent    BestBd   Gap | It/Node Time\n",
      "\n",
      "     0     0    0.00000    0  275  184.19437    0.00000   100%     -    0s\n",
      "H    0     0                      22.3604027    0.00000   100%     -    0s\n",
      "H    0     0                       8.7036462    0.00000   100%     -    1s\n",
      "H    0     0                       7.9632529    0.00000   100%     -    1s\n",
      "H    0     0                       4.5868045    0.00000   100%     -    1s\n",
      "     0     0    0.00000    0  256    4.58680    0.00000   100%     -    1s\n",
      "     0     0    0.00000    0  241    4.58680    0.00000   100%     -    1s\n",
      "H    0     0                       4.4792976    0.00000   100%     -    2s\n",
      "     0     0    0.00000    0  188    4.47930    0.00000   100%     -    2s\n",
      "     0     0    0.00000    0  186    4.47930    0.00000   100%     -    2s\n",
      "     0     0    0.00000    0  185    4.47930    0.00000   100%     -    3s\n",
      "*    0     0               0       0.0000000    0.00000  0.00%     -    3s\n",
      "\n",
      "Cutting planes:\n",
      "  MIR: 1\n",
      "  RLT: 7\n",
      "\n",
      "Explored 1 nodes (12749 simplex iterations) in 3.43 seconds (3.45 work units)\n",
      "Thread count was 8 (of 8 available processors)\n",
      "\n",
      "Solution count 7: 0 4.4793 4.5868 ... 184.194\n",
      "\n",
      "Optimal solution found (tolerance 1.00e-04)\n",
      "Best objective 0.000000000000e+00, best bound 0.000000000000e+00, gap 0.0000%\n",
      "--- Il y a une solution ---\n",
      "Percentage of explained preferences on train data: 1.0\n",
      "Percentage of preferences well regrouped into clusters: 0.9960060030015008\n"
     ]
    }
   ],
   "source": [
    "from python.models import TwoClustersMIP\n",
    "\n",
    "model = TwoClustersMIP(n_clusters=2, n_pieces=5)\n",
    "model.fit(X, Y)\n",
    "\n",
    "# Uncomment once your model is working\n",
    "print(\"Percentage of explained preferences on train data:\", pairs_explained.from_model(model, X, Y)) # You should get 1.0 with the right MIP\n",
    "print(\"Percentage of preferences well regrouped into clusters:\", cluster_intersection.from_model(model, X, Y, Z))"
   ]
  },
  {
   "cell_type": "code",
   "execution_count": 14,
   "metadata": {},
   "outputs": [],
   "source": [
    "# print(X[0], Y[0])\n",
    "# print(model.compute_score(X[0], 0, evaluate=True))\n",
    "# print(model.compute_score(X[0], 1, evaluate=True))\n",
    "# print(model.compute_score(Y[0], 0, evaluate=True))\n",
    "# print(model.compute_score(Y[0], 1, evaluate=True))\n",
    "\n",
    "# print(\"Non null errors\")\n",
    "# for sigma in model.sigma_x_minus:\n",
    "#     if sigma.X != 0:\n",
    "#         print(sigma.X)\n",
    "# for sigma in model.sigma_x_plus:\n",
    "#     if sigma.X != 0:\n",
    "#         print(sigma.X)\n",
    "# for sigma in model.sigma_y_plus:\n",
    "#     if sigma.X != 0:\n",
    "#         print(sigma.X)\n",
    "# for sigma in model.sigma_y_minus:\n",
    "#     if sigma.X != 0:\n",
    "#         print(sigma.X)\n",
    "\n",
    "# for delta_j in model.delta_j_k:\n",
    "#     for delta_j_k in delta_j:\n",
    "#         print(delta_j_k.X)\n",
    "\n",
    "# print(\"Functions\")\n",
    "# for score_k in model.score_k_i_l:\n",
    "#     for score_k_i in score_k:\n",
    "#         for score_k_i_l in score_k_i:\n",
    "#             print(score_k_i_l.X)\n",
    "#         print(\"--------\")\n",
    "#     print(\"CHANGE CLUSTER\")"
   ]
  },
  {
   "cell_type": "code",
   "execution_count": 18,
   "metadata": {},
   "outputs": [
    {
     "data": {
      "image/png": "[encoded data removed]",
      "text/plain": [
       "<Figure size 432x288 with 1 Axes>"
      ]
     },
     "metadata": {
      "needs_background": "light"
     },
     "output_type": "display_data"
    }
   ],
   "source": [
    "# As an example here are the results obtained with:\n",
    "plt.figure()\n",
    "plt.scatter(model.predict_utility(X)[:, 0]-model.predict_utility(Y)[:, 0], \n",
    "            model.predict_utility(X)[:, 1]-model.predict_utility(Y)[:, 1], c=Z)\n",
    "plt.xlabel(\"U1(x) - U1(y)\")\n",
    "plt.ylabel(\"U2(x) - U2(y)\")\n",
    "plt.show()\n",
    "\n",
    "# # Here is how it should look like\n",
    "# from IPython.display import Image\n",
    "# Image(\"../images/MIP_results_example.png\")"
   ]
  }
 ],
 "metadata": {
  "kernelspec": {
   "display_name": "start_env",
   "language": "python",
   "name": "python3"
  },
  "language_info": {
   "codemirror_mode": {
    "name": "ipython",
    "version": 3
   },
   "file_extension": ".py",
   "mimetype": "text/x-python",
   "name": "python",
   "nbconvert_exporter": "python",
   "pygments_lexer": "ipython3",
   "version": "3.9.6"
  }
 },
 "nbformat": 4,
 "nbformat_minor": 2
}
